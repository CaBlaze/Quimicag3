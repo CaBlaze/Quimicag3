{
  "nbformat": 4,
  "nbformat_minor": 0,
  "metadata": {
    "colab": {
      "provenance": [],
      "authorship_tag": "ABX9TyOaTEt5WQciGtlq4Kws/Yca",
      "include_colab_link": true
    },
    "kernelspec": {
      "name": "python3",
      "display_name": "Python 3"
    },
    "language_info": {
      "name": "python"
    }
  },
  "cells": [
    {
      "cell_type": "markdown",
      "metadata": {
        "id": "view-in-github",
        "colab_type": "text"
      },
      "source": [
        "<a href=\"https://colab.research.google.com/github/CaBlaze/Quimicag3/blob/main/Liquidos_Soluciones.ipynb\" target=\"_parent\"><img src=\"https://colab.research.google.com/assets/colab-badge.svg\" alt=\"Open In Colab\"/></a>"
      ]
    },
    {
      "cell_type": "markdown",
      "source": [
        "FUERZAS INTERMOLECULARES"
      ],
      "metadata": {
        "id": "fvqjRYgbcaAO"
      }
    },
    {
      "cell_type": "markdown",
      "source": [
        "1.Proponga un ejemplo para cada tipo de fuerzas intermoleculares:\n",
        "\n",
        "a)Interacción dipolo-dipolo\n",
        "\n",
        "b)Interacción dipolo-dipolo inducido\n",
        "\n",
        "c)Interacción ion-dipolo\n",
        "\n",
        "d)Fuerzas de dispersión\n",
        "\n",
        "e)Fuerzas de Van der Waals"
      ],
      "metadata": {
        "id": "KTcm2gYE0ozn"
      }
    },
    {
      "cell_type": "markdown",
      "source": [
        "a) Las moléculas de cloruro de hidrógeno (HCl) ya que el átomo de hidrógeno tiene una carga parcial positiva, mientras que el átomo de cloro tiene una carga parcial negativa.\n",
        "\n",
        "b) Las moléculas de helio (He), cada molécula de helio no tiene un momento dipolar permanente, ya que los dos átomos de helio son idénticos y tienen una distribución uniforme de electrones, lo que resulta en una carga neta neutra. Sin embargo, debido a las fluctuaciones temporales en la ubicación de los electrones en las moléculas de helio, ocasionalmente pueden desarrollar momentos dipolares instantáneos.\n",
        "\n",
        "c)Un ejemplo clásico de interacción ion-dipolo se produce en la disolución de una sal iónica en un solvente polar, como el agua. Esta interacción ion-dipolo permite que los iones se separen y dispersen en el medio acuoso, lo que facilita la disolución de la sal en agua.\n",
        "\n",
        "d) Un ejemplo de fuerzas de dispersión puede verse en las moléculas de nitrógeno (N₂).Cuando una molécula de N₂ desarrolla un momento dipolar instantáneo, induce un momento dipolar en una molécula cercana.Estos momentos dipolares instantáneos pueden interactuar entre sí y dar lugar a una atracción temporal entre las moléculas de nitrógeno. Aunque las fuerzas de dispersión son débiles en comparación con otras fuerzas intermoleculares, son responsables de mantener unidos los gases nobles como el nitrógeno, el helio y el argón, y también desempeñan un papel importante en la estabilidad de muchas sustancias no polares y moléculas simples.\n",
        "\n",
        "e)Fuerzas de enlace de hidrógeno: Estas son un tipo especial de fuerza de Van der Waals que se produce en moléculas que contienen átomos de hidrógeno unidos a átomos altamente electronegativos como nitrógeno, oxígeno o flúor. Un ejemplo clásico de esto es la formación de puentes de hidrógeno en el agua (H₂O), donde los átomos de hidrógeno están atraídos hacia los átomos de oxígeno de otras moléculas de agua debido a las diferencias de electronegatividad."
      ],
      "metadata": {
        "id": "I3VA11cX1U0O"
      }
    },
    {
      "cell_type": "markdown",
      "source": [
        "2.Explique el término \"polarizabilidad\". ¿Qué clase de moléculas tienden a ser muy polarizables?¿Qué relación existe entra la polarizabilidad y las fuerzas intermoleculares?"
      ],
      "metadata": {
        "id": "jObRsWj_FeUw"
      }
    },
    {
      "cell_type": "markdown",
      "source": [
        "La polarizabilidad es una propiedad de una molécula que describe su capacidad para deformar su nube electrónica en respuesta a un campo eléctrico externo. Moléculas que tienden a ser muy polarizables son aquellas con electrones más dispersos y débilmente retenidos en la nube electrónica, lo que les permite moverse más fácilmente en respuesta a fuerzas externas. Cuanto más polarizable es una molécula, más grande es la fluctuación en la distribución de sus electrones, lo que resulta en momentos dipolares más grandes y, por lo tanto, en fuerzas de dispersión más fuertes."
      ],
      "metadata": {
        "id": "2bqIXPfOI4UC"
      }
    },
    {
      "cell_type": "markdown",
      "source": [
        "3.Explique la diferencia entre un momento dipolar temporal y un momento dipolar permanente"
      ],
      "metadata": {
        "id": "kmp__osAJQlR"
      }
    },
    {
      "cell_type": "markdown",
      "source": [
        " La principal diferencia entre un momento dipolar permanente y un momento dipolar temporal es que el primero es una característica intrínseca de la molécula y es constante, mientras que el segundo es una fluctuación transitoria en la distribución de carga debido a la variabilidad en la ubicación de los electrones."
      ],
      "metadata": {
        "id": "g62G7ZEDLDVF"
      }
    },
    {
      "cell_type": "markdown",
      "source": [
        "4.Mencione alguna evidencia de que todos los átomos y moleculas ejercen entre sí fuerzas de atracción"
      ],
      "metadata": {
        "id": "NSGRPT-nLE-0"
      }
    },
    {
      "cell_type": "markdown",
      "source": [
        " Los diferentes estados de la materia (sólido, líquido y gas) se pueden entender en términos de la intensidad de las fuerzas de atracción entre las partículas. En los sólidos, las partículas están fuertemente atraídas unas a otras, en los líquidos, la atracción es más débil, y en los gases, las partículas están más separadas y experimentan fuerzas de atracción más débiles."
      ],
      "metadata": {
        "id": "qOde2_0ORADF"
      }
    },
    {
      "cell_type": "markdown",
      "source": [
        "5.¿Qué propiedades físicas se deberían considerar al comparar la intensidad de las fuerzas intermoleculares en los sólidos y líquidos?"
      ],
      "metadata": {
        "id": "3HyQ5vdvRCoV"
      }
    },
    {
      "cell_type": "markdown",
      "source": [
        "Se deberian considerar las siguientes propiedades físicas:\n",
        "\n",
        "-Punto de fusión (sólidos) y punto de ebullición (líquidos)\n",
        "\n",
        "-Entalpía de fusión (sólidos) y entalpía de vaporización (líquidos)\n",
        "\n",
        "-Densidad\n",
        "\n",
        "-Viscosidad\n",
        "\n",
        "-Tensión superficial\n",
        "\n",
        "-Capilaridad"
      ],
      "metadata": {
        "id": "0DEz_Y5HSbss"
      }
    },
    {
      "cell_type": "markdown",
      "source": [
        "PROPIEDADES DE LOS LÍQUIDOS"
      ],
      "metadata": {
        "id": "kk-tyU_8Jclt"
      }
    },
    {
      "cell_type": "markdown",
      "source": [
        "1.¿Por qué los liquidos, a diferencia de los gases, son practicamente incompresibles?"
      ],
      "metadata": {
        "id": "7a6y2hIKTGF-"
      }
    },
    {
      "cell_type": "markdown",
      "source": [
        "Los líquidos son prácticamente incompresibles en comparación con los gases debido a la densidad de partículas, las fuerzas intermoleculares y el movimiento de partículas en estado líquido, que limitan su capacidad para ocupar volúmenes mayores y reducir su volumen bajo presión. Los gases, por otro lado, tienen partículas mucho más separadas y experimentan fuerzas intermoleculares más débiles, lo que les permite comprimirse significativamente bajo presión."
      ],
      "metadata": {
        "id": "micOckxao4VK"
      }
    },
    {
      "cell_type": "markdown",
      "source": [
        "2.¿Qué es la tensión superficial?¿Qué relación existe entre esta propiedad y las fuerzas intermoleculares?¿Cómo cambia la tensión superficial con la temperatura?"
      ],
      "metadata": {
        "id": "UCrd-0wKo7xj"
      }
    },
    {
      "cell_type": "markdown",
      "source": [
        "La tensión superficial es una propiedad física de los líquidos que se refiere a la tendencia de la superficie de un líquido a comportarse como una membrana elástica o \"piel\" que tiende a minimizar su área superficial.La tensión superficial es el resultado de las fuerzas intermoleculares entre las moléculas en la superficie de un líquido. En la superficie de un líquido, las moléculas no tienen otras moléculas por encima de ellas para atraerlas hacia arriba, lo que da lugar a fuerzas de atracción desequilibradas. Como resultado, las moléculas en la superficie están más unidas y tienden a formar una superficie más compacta.La tensión superficial de un líquido tiende a disminuir a medida que aumenta la temperatura. Esto se debe a varios factores relacionados con la energía cinética de las moléculas en el líquido y su capacidad para superar las fuerzas intermoleculares en la superficie."
      ],
      "metadata": {
        "id": "Tb8hGmMJwAJh"
      }
    },
    {
      "cell_type": "markdown",
      "source": [
        "3.Un vaso se puede llenar con justo por encima del borde. ¿Por qué el agua no se derrama?"
      ],
      "metadata": {
        "id": "AUMZAz43wrFt"
      }
    },
    {
      "cell_type": "markdown",
      "source": [
        "Esto se debe a la tensión superficial ya que cuando llenas el vaso con agua, las moléculas de agua son atraídas entre sí por fuerzas de cohesión. Esto hace que las moléculas de agua en la superficie se adhieran a las moléculas de agua en el interior del líquido. Debido a esta cohesión, las moléculas de agua en la superficie del líquido se mantienen juntas y forman una especie de película o \"piel\" en la parte superior del vaso. Esta película tiene una tensión superficial, lo que significa que actúa como una membrana elástica que resiste la ruptura."
      ],
      "metadata": {
        "id": "lyKdqzKix-gh"
      }
    },
    {
      "cell_type": "markdown",
      "source": [
        "4.¿Por qué la viscosidad de un líquido disminuye con el aumento en su temperatura?"
      ],
      "metadata": {
        "id": "9Tt1VwDpyMsd"
      }
    },
    {
      "cell_type": "markdown",
      "source": [
        "A medida que la temperatura aumenta, la viscosidad de un líquido disminuye debido a la mayor energía cinética de las moléculas, la disminución de la efectividad de las fuerzas intermoleculares y el mayor movimiento molecular. La relación entre la temperatura y la viscosidad es inversa, lo que significa que, en general, los líquidos tienden a volverse menos viscosos a temperaturas más altas."
      ],
      "metadata": {
        "id": "V239zC32yvcT"
      }
    },
    {
      "cell_type": "markdown",
      "source": [
        "SOLUCIONES"
      ],
      "metadata": {
        "id": "-VoZJlOoyxju"
      }
    },
    {
      "cell_type": "markdown",
      "source": [
        "1.Explique por qué el proceso de disolución invariablemente conduce a un aumento en el desorden"
      ],
      "metadata": {
        "id": "vBk3pOloy2Tg"
      }
    },
    {
      "cell_type": "markdown",
      "source": [
        "La disolución conduce a un aumento en el desorden y la entropía debido a la mayor dispersión de partículas, el aumento en el número de configuraciones posibles, la mayor libertad de movimiento y la adición de energía térmica."
      ],
      "metadata": {
        "id": "y1Mb-lv7zlWo"
      }
    },
    {
      "cell_type": "markdown",
      "source": [
        "2.Describa los factores que afectan la solubilidad de un sólido en un líquido. ¿Qué significa decir que dos líquidos son miscibles?"
      ],
      "metadata": {
        "id": "xI3HaG2ZzqBJ"
      }
    },
    {
      "cell_type": "markdown",
      "source": [
        " Los principales factores que afectan la solubilidad de un sólido en un líquido son:\n",
        "\n",
        " Naturaleza de las sustancias: La afinidad química entre el sólido y el líquido es un factor crítico. Si las fuerzas intermoleculares entre el sólido y el líquido son similares o atractivas, la solubilidad es mayor.\n",
        "\n",
        " Temperatura: En general, la solubilidad de los sólidos en líquidos aumenta con la temperatura para la mayoría de las sustancias. A medida que la temperatura aumenta, las moléculas en el líquido ganan más energía cinética, lo que les permite separar y dispersar las partículas del sólido con mayor facilidad.\n",
        "\n",
        " Tamaño de partícula: La solubilidad también puede verse afectada por el tamaño de partícula del sólido. Los sólidos que se disuelven más rápidamente suelen tener partículas más pequeñas, ya que una mayor área de superficie permite una interacción más efectiva con el líquido.\n",
        "\n",
        " Decir que dos líquidos son miscibles significa que pueden mezclarse en cualquier proporción para formar una sola fase homogénea. Esto implica que las moléculas de ambos líquidos se atraen lo suficiente entre sí como para permitir una mezcla completa sin separación de fases."
      ],
      "metadata": {
        "id": "atTKaRZm0si5"
      }
    },
    {
      "cell_type": "markdown",
      "source": [
        "3.A partir de las fuerzas intermoleculares, explique el significado de \"lo semejante disuelve lo semejante\""
      ],
      "metadata": {
        "id": "cuuj5z6G1-R6"
      }
    },
    {
      "cell_type": "markdown",
      "source": [
        " \"Lo semejante disuelve lo semejante\" se basa en la idea de que las sustancias con fuerzas intermoleculares similares tienen una mayor afinidad y capacidad para interactuar de manera efectiva, lo que facilita su disolución en un solvente con fuerzas intermoleculares compatibles."
      ],
      "metadata": {
        "id": "p1VsHdOv2rUU"
      }
    },
    {
      "cell_type": "markdown",
      "source": [
        "4.Describa brevemente el proceso de disolución a nivel molecular. Utilice como ejemplo la disolución de un sólido en un líquido"
      ],
      "metadata": {
        "id": "1KEdjU5x2wUM"
      }
    },
    {
      "cell_type": "markdown",
      "source": [
        "Ejemplo: Agua con azúcar\n",
        "\n",
        "Primero se da la separación de particulas del soluto debido a la energia cinética y a las colisones entre las moléculas de agua y las particulas de azúcar. Luego se da la interacción entre las moléculas debido a las fuerzas de atracción entre los grupos polares de ambas sustancias. Posteriormente las moléculas de agua se agrupan alrededor de las particulas de azúcar, esto se debe a su afinidad. Las partículas de azúcar se dispersan en el solvente y quedan rodeadas por moléculas de agua.Con el tiempo, a medida que continúas agregando más partículas de azúcar y se dispersan en el agua, obtienes una mezcla homogénea llamada solución, en la que las partículas de azúcar están distribuidas uniformemente en todo el volumen del agua. La solución resultante tiene una apariencia y propiedades uniformes."
      ],
      "metadata": {
        "id": "4XQz4c6239V7"
      }
    },
    {
      "cell_type": "markdown",
      "source": [
        "UNIDADES DE CONCENTRACIÓN"
      ],
      "metadata": {
        "id": "vcWDj5wY5m6H"
      }
    },
    {
      "cell_type": "markdown",
      "source": [
        "1.Calcule el porcentaje en masa de soluto en cada una de las siguientes soluciones acuosas:"
      ],
      "metadata": {
        "id": "2VFRHww36JQU"
      }
    },
    {
      "cell_type": "markdown",
      "source": [
        "a) 5.50g de NaBr en 78.2g de disolución"
      ],
      "metadata": {
        "id": "SfjXb3Uj_xPX"
      }
    },
    {
      "cell_type": "code",
      "source": [
        "#Porcentaje en Masa de Soluto = (Masa del Soluto / Masa Total de la Disolución) x 100\n",
        "\n",
        "MS=5.50\n",
        "MD=78.2\n",
        "PMS= (MS/MD)*100\n",
        "print(\"El porcentaje en masa del soluto es\",PMS,\"%\")"
      ],
      "metadata": {
        "colab": {
          "base_uri": "https://localhost:8080/"
        },
        "id": "HfmbQuZk9Gl3",
        "outputId": "ce106ad9-84e2-415e-a1ac-5b560b41a3aa"
      },
      "execution_count": 5,
      "outputs": [
        {
          "output_type": "stream",
          "name": "stdout",
          "text": [
            "El porcentaje en masa del soluto es 7.033248081841433 %\n"
          ]
        }
      ]
    },
    {
      "cell_type": "markdown",
      "source": [
        "b) 31.0g de KCl en 152g de agua"
      ],
      "metadata": {
        "id": "uMfiID2R_y-X"
      }
    },
    {
      "cell_type": "code",
      "source": [
        "#Porcentaje en Masa de Soluto = (Masa del Soluto / Masa Total de la Disolución) x 100\n",
        "\n",
        "MS=31.0\n",
        "MD=152+31\n",
        "PMS= (MS/MD)*100\n",
        "print(\"El porcentaje en masa del soluto es\",PMS,\"%\")"
      ],
      "metadata": {
        "colab": {
          "base_uri": "https://localhost:8080/"
        },
        "id": "6X8wzndH_-Bp",
        "outputId": "8ce4ebe6-dbd8-4359-e3b3-1d0e8451778f"
      },
      "execution_count": 1,
      "outputs": [
        {
          "output_type": "stream",
          "name": "stdout",
          "text": [
            "El porcentaje en masa del soluto es 16.939890710382514 %\n"
          ]
        }
      ]
    },
    {
      "cell_type": "markdown",
      "source": [
        "c) 4.5g de tolueno en 29g de benceno"
      ],
      "metadata": {
        "id": "jZ3B80tz_3HJ"
      }
    },
    {
      "cell_type": "code",
      "source": [
        "#Porcentaje en Masa de Soluto = (Masa del Soluto / Masa Total de la Disolución) x 100\n",
        "\n",
        "MS=4.5\n",
        "MD=29+4.5\n",
        "PMS= (MS/MD)*100\n",
        "print(\"El porcentaje en masa del soluto es\",PMS,\"%\")"
      ],
      "metadata": {
        "colab": {
          "base_uri": "https://localhost:8080/"
        },
        "id": "yW0DqXlt_-u4",
        "outputId": "125701ef-f073-4e19-9aa9-92dedbfc60f2"
      },
      "execution_count": 2,
      "outputs": [
        {
          "output_type": "stream",
          "name": "stdout",
          "text": [
            "El porcentaje en masa del soluto es 13.432835820895523 %\n"
          ]
        }
      ]
    },
    {
      "cell_type": "markdown",
      "source": [
        "2.Calcule la molalidad de cada una de las siguientes disoluciones:"
      ],
      "metadata": {
        "id": "h3Nlm5blAJcB"
      }
    },
    {
      "cell_type": "markdown",
      "source": [
        "a) 14.3g de sacarosa(C12H22O11) en 676g de agua"
      ],
      "metadata": {
        "id": "27rdR9cbJ7fg"
      }
    },
    {
      "cell_type": "code",
      "source": [
        "#masa molar de la sacarosa:342,2965g/mol\n",
        "#primero calculamos las moles del soluto\n",
        "MS=14.3/342.2965\n",
        "#masa del solvente en kg\n",
        "KS=676/1000\n",
        "#calculamos la molalidad\n",
        "M=MS/KS\n",
        "print(\"La molalidad de esta disolución es\",M,\"mol/kg\")"
      ],
      "metadata": {
        "colab": {
          "base_uri": "https://localhost:8080/"
        },
        "id": "prSHv2KnMMgj",
        "outputId": "ec627198-b702-4ae3-e2f5-55cb9a33ae2d"
      },
      "execution_count": 9,
      "outputs": [
        {
          "output_type": "stream",
          "name": "stdout",
          "text": [
            "La molalidad de esta disolución es 0.06179977345326685 mol/kg\n"
          ]
        }
      ]
    },
    {
      "cell_type": "markdown",
      "source": [
        "b) 7.20 moles de etilenglicol(C2H6O2) en 3546g de agua"
      ],
      "metadata": {
        "id": "GsX8HeniN2Yo"
      }
    },
    {
      "cell_type": "code",
      "source": [
        "MS=7.20\n",
        "#masa del solvente en kg\n",
        "KS=3546/1000\n",
        "#calculamos la molalidad\n",
        "M=MS/KS\n",
        "print(\"La molalidad de esta disolución es\",M,\"mol/kg\")"
      ],
      "metadata": {
        "colab": {
          "base_uri": "https://localhost:8080/"
        },
        "id": "0LbOatNFOSVq",
        "outputId": "957552ce-8f8a-47b4-aa8d-38abe2f8f677"
      },
      "execution_count": 10,
      "outputs": [
        {
          "output_type": "stream",
          "name": "stdout",
          "text": [
            "La molalidad de esta disolución es 2.0304568527918785 mol/kg\n"
          ]
        }
      ]
    },
    {
      "cell_type": "markdown",
      "source": [
        "3.Calcule la cantidad de agua (en gramos) que se debe agregar a:"
      ],
      "metadata": {
        "id": "ZmsViippSGS0"
      }
    },
    {
      "cell_type": "markdown",
      "source": [
        "a) 5.00g de urea (NH2)2CO para preparar una disolución al 16.2% en masa"
      ],
      "metadata": {
        "id": "wGuYp-k3TZRE"
      }
    },
    {
      "cell_type": "code",
      "source": [
        "#Masa Total de la Solución = Masa del Soluto / (Porcentaje en Masa del Soluto / 100)\n",
        "MTS=5.00/(16.2/100)\n",
        "#Masa de Agua = Masa Total de la Solución - Masa del Soluto (urea)\n",
        "MA=MTS-5.00\n",
        "print(\"Se debe agregar\",MA,\"gramos de agua\")"
      ],
      "metadata": {
        "colab": {
          "base_uri": "https://localhost:8080/"
        },
        "id": "vfju8_L5SHDk",
        "outputId": "b0ef1659-4b4e-49c6-ada4-363ecd60e2d9"
      },
      "execution_count": 12,
      "outputs": [
        {
          "output_type": "stream",
          "name": "stdout",
          "text": [
            "Se debe agregar 25.864197530864196 gramos de agua\n"
          ]
        }
      ]
    },
    {
      "cell_type": "markdown",
      "source": [
        "b)26.2g de MgCl2 para preparar una disolución al 1.5% en masa"
      ],
      "metadata": {
        "id": "OzEkILHCU85k"
      }
    },
    {
      "cell_type": "code",
      "source": [
        "#Masa Total de la Solución = Masa del Soluto / (Porcentaje en Masa del Soluto / 100)\n",
        "MTS=26.2/(1.5/100)\n",
        "#Masa de Agua = Masa Total de la Solución - Masa del Soluto (urea)\n",
        "MA=MTS-26.2\n",
        "print(\"Se debe agregar\",MA,\"gramos de agua\")"
      ],
      "metadata": {
        "colab": {
          "base_uri": "https://localhost:8080/"
        },
        "id": "pLWtxp7AVNEw",
        "outputId": "f801605a-093c-4f3e-a067-f3e7abde84c2"
      },
      "execution_count": 13,
      "outputs": [
        {
          "output_type": "stream",
          "name": "stdout",
          "text": [
            "Se debe agregar 1720.4666666666667 gramos de agua\n"
          ]
        }
      ]
    },
    {
      "cell_type": "markdown",
      "source": [
        "4.Calcule la molalidad de cada una de las siguientes disoluciones acuosa:"
      ],
      "metadata": {
        "id": "RlQY9A9AVdha"
      }
    },
    {
      "cell_type": "markdown",
      "source": [
        "a)Disolución de NaCl 2.50 M (densidad de la disolución = 1.08 g/mL"
      ],
      "metadata": {
        "id": "i3WWkxZDMR93"
      }
    },
    {
      "cell_type": "code",
      "source": [
        "# molaridad = 2.5 M   --> 2.5 mol en 1 L\n",
        "# densidad = 1.08/mL --> 1.08 Kg en 1 L\n",
        "mm_soluto = 58.44\n",
        "nm_soluto = 2.5\n",
        "g_soluto = mm_soluto * nm_soluto\n",
        "m_solvente = (1080 - g_soluto)/1000\n",
        "molalidad = nm_soluto/m_solvente\n",
        "print(f\"La Molalidad es : {round(molalidad,2)}\")"
      ],
      "metadata": {
        "colab": {
          "base_uri": "https://localhost:8080/"
        },
        "id": "pISw1HhfNkf8",
        "outputId": "227d3746-6dad-443d-91cc-f0c516ac700d"
      },
      "execution_count": 4,
      "outputs": [
        {
          "output_type": "stream",
          "name": "stdout",
          "text": [
            "La Molalidad es : 2.68\n"
          ]
        }
      ]
    },
    {
      "cell_type": "markdown",
      "source": [
        "b)Disolución de KBr al 48.2% en masa"
      ],
      "metadata": {
        "id": "8NsLTW5LNser"
      }
    },
    {
      "cell_type": "code",
      "source": [
        "mm_soluto = 119.002\n",
        "g_soluto = 48.2\n",
        "nm_soluto = g_soluto/mm_soluto\n",
        "m_solvente = (51.8)/1000\n",
        "molalidad = nm_soluto/m_solvente\n",
        "print(f\"La Molalidad es : {round(molalidad,2)}\")"
      ],
      "metadata": {
        "colab": {
          "base_uri": "https://localhost:8080/"
        },
        "id": "0EzCBODcN0AN",
        "outputId": "3d0e5c0e-a1ba-437f-b905-9827cbfa28f8"
      },
      "execution_count": 5,
      "outputs": [
        {
          "output_type": "stream",
          "name": "stdout",
          "text": [
            "La Molalidad es : 7.82\n"
          ]
        }
      ]
    },
    {
      "cell_type": "markdown",
      "source": [
        "5.Calcule la molalidad de cada una de las siguientes disoluciones acuosas:"
      ],
      "metadata": {
        "id": "NR7_vzlCN6mU"
      }
    },
    {
      "cell_type": "markdown",
      "source": [
        "a)Disolución de azúcar (C12H22O11) 1.22 M (densidad de la disolución = 1.12g/mL)"
      ],
      "metadata": {
        "id": "DSXmAPyBOF4s"
      }
    },
    {
      "cell_type": "code",
      "source": [
        "mm_soluto = 342.3\n",
        "nm_soluto = 1.22\n",
        "g_soluto = mm_soluto * nm_soluto\n",
        "m_solvente = (1120 - g_soluto)/1000\n",
        "molalidad = nm_soluto/m_solvente\n",
        "print(f\"La Molalidad es : {round(molalidad,2)}\")"
      ],
      "metadata": {
        "colab": {
          "base_uri": "https://localhost:8080/"
        },
        "id": "dJJlap8ROe1i",
        "outputId": "eb24da7d-d7b4-4046-a74a-cac44e6dc6e4"
      },
      "execution_count": 6,
      "outputs": [
        {
          "output_type": "stream",
          "name": "stdout",
          "text": [
            "La Molalidad es : 1.74\n"
          ]
        }
      ]
    },
    {
      "cell_type": "markdown",
      "source": [
        "b)Disolución de NaOH 0.87 M (densidad de la disolución = 1.04g/mL)"
      ],
      "metadata": {
        "id": "ctOoCnljOk2t"
      }
    },
    {
      "cell_type": "code",
      "source": [
        "mm_soluto = 39.997\n",
        "nm_soluto = 0.87\n",
        "g_soluto = mm_soluto * nm_soluto\n",
        "m_solvente = (1040 - g_soluto)/1000\n",
        "molalidad = nm_soluto/m_solvente\n",
        "print(f\"La Molalidad es : {round(molalidad,2)}\")"
      ],
      "metadata": {
        "colab": {
          "base_uri": "https://localhost:8080/"
        },
        "id": "19pDpZU2O0WB",
        "outputId": "8277aadc-e182-4c45-9c9a-05a5a4efd51e"
      },
      "execution_count": 9,
      "outputs": [
        {
          "output_type": "stream",
          "name": "stdout",
          "text": [
            "La Molalidad es : 0.87\n"
          ]
        }
      ]
    },
    {
      "cell_type": "markdown",
      "source": [
        "c)Disolución de NaHCO3 5.24 M (densidad de la disolución = 1.19g/mL)"
      ],
      "metadata": {
        "id": "ONRLRYUwO5Oq"
      }
    },
    {
      "cell_type": "code",
      "source": [
        "mm_soluto = 84.01\n",
        "nm_soluto = 5.24\n",
        "g_soluto = mm_soluto * nm_soluto\n",
        "m_solvente = (1190 - g_soluto)/1000\n",
        "molalidad = nm_soluto/m_solvente\n",
        "print(f\"La Molalidad es : {round(molalidad,2)}\")"
      ],
      "metadata": {
        "colab": {
          "base_uri": "https://localhost:8080/"
        },
        "id": "kgdrVMqVPF91",
        "outputId": "6ce057eb-2671-4aec-82a6-c3288bc3082d"
      },
      "execution_count": 10,
      "outputs": [
        {
          "output_type": "stream",
          "name": "stdout",
          "text": [
            "La Molalidad es : 6.99\n"
          ]
        }
      ]
    },
    {
      "cell_type": "markdown",
      "source": [
        "6.El ácido sulfúrico concentrado que se utiliza en el laboratorio es H2SO4 al 98.0% en masa. Calcule la molalidad y la molaridad de la disolución ácida. La densidad de la disolución es de 1.83g/mL"
      ],
      "metadata": {
        "id": "pGiEagFUPSnh"
      }
    },
    {
      "cell_type": "code",
      "source": [
        "#Por Porcentaje de Masa   98%\n",
        "m_total = 1830 #1.83Kg\n",
        "m_soluto = 1830*0.98 #en g\n",
        "m_solvente = 1830*0.2/1000 #en Kg\n",
        "mm_soluto = 98.079\n",
        "nm_soluto = m_soluto / mm_soluto\n",
        "#Por Densidad     1.83g/mL: 1.83Kg --> 1L\n",
        "volumen = 1\n",
        "\n",
        "molalidad = nm_soluto/m_solvente\n",
        "molaridad = nm_soluto/volumen\n",
        "print(f\"Su molalidad es: {round(molalidad,2)}.\")\n",
        "print(f\"Su molaridad es: {round(molaridad,2)}.\")"
      ],
      "metadata": {
        "colab": {
          "base_uri": "https://localhost:8080/"
        },
        "id": "W8pJfI1NP0AN",
        "outputId": "b8a54668-9c24-427a-cf7c-ad09da36efb3"
      },
      "execution_count": 11,
      "outputs": [
        {
          "output_type": "stream",
          "name": "stdout",
          "text": [
            "Su molalidad es: 49.96.\n",
            "Su molaridad es: 18.29.\n"
          ]
        }
      ]
    },
    {
      "cell_type": "markdown",
      "source": [
        "EFECTO DE LA TEMPERATURA EN LA SOLUBILIDAD"
      ],
      "metadata": {
        "id": "Gk956gNHP9-b"
      }
    },
    {
      "cell_type": "markdown",
      "source": [
        "1.Una muestra de 3.20g de una sal se disuelve en 9.10g de agua para formar una disolución saturada a 25°C.¿Cuál es la solubilidad (en g de sal/100 g de H2O) de la sal?"
      ],
      "metadata": {
        "id": "tSdJVIZvQH8b"
      }
    },
    {
      "cell_type": "code",
      "source": [
        "g_soluto = 3.2\n",
        "g_solvente = 9.1\n",
        "solubilidad = (g_soluto*100)/g_solvente\n",
        "print(f\"La solubilidad es {round(solubilidad,2)} g de sal/100g.\")"
      ],
      "metadata": {
        "colab": {
          "base_uri": "https://localhost:8080/"
        },
        "id": "m7KQAPP2QvTZ",
        "outputId": "b6323b87-d030-46f1-b038-f099afe0a379"
      },
      "execution_count": 12,
      "outputs": [
        {
          "output_type": "stream",
          "name": "stdout",
          "text": [
            "La solubilidad es 35.16 g de sal/100g.\n"
          ]
        }
      ]
    }
  ]
}