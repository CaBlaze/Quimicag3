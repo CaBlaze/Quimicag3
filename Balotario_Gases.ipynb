{
  "nbformat": 4,
  "nbformat_minor": 0,
  "metadata": {
    "colab": {
      "provenance": [],
      "authorship_tag": "ABX9TyOGreY/whwj0Lx9VD+f3rca",
      "include_colab_link": true
    },
    "kernelspec": {
      "name": "python3",
      "display_name": "Python 3"
    },
    "language_info": {
      "name": "python"
    }
  },
  "cells": [
    {
      "cell_type": "markdown",
      "metadata": {
        "id": "view-in-github",
        "colab_type": "text"
      },
      "source": [
        "<a href=\"https://colab.research.google.com/github/CaBlaze/Quimicag3/blob/main/Balotario_Gases.ipynb\" target=\"_parent\"><img src=\"https://colab.research.google.com/assets/colab-badge.svg\" alt=\"Open In Colab\"/></a>"
      ]
    },
    {
      "cell_type": "code",
      "execution_count": null,
      "metadata": {
        "id": "8JlMksMiNBOS"
      },
      "outputs": [],
      "source": []
    },
    {
      "cell_type": "markdown",
      "source": [
        "TEMA 1. El estado Gaseoso: generalidades"
      ],
      "metadata": {
        "id": "DMh5GO_DOM_G"
      }
    },
    {
      "cell_type": "markdown",
      "source": [
        "1.1. Calcula el volumen ocupado por 2 moles de gas a una presión de 3 atmósferas y una\n",
        "temperatura de 300 K."
      ],
      "metadata": {
        "id": "1AUj9esiTCkU"
      }
    },
    {
      "cell_type": "code",
      "source": [
        "# Utilizamos PV=nRT\n",
        "\n",
        "n= 2\n",
        "R= 0.0821\n",
        "T= 300\n",
        "P= 3\n",
        "V= (R*T*n)/P\n",
        "print(\"El volumen es\" ,V)"
      ],
      "metadata": {
        "colab": {
          "base_uri": "https://localhost:8080/"
        },
        "id": "QLkMqMHkO0xG",
        "outputId": "a4b64448-b3f2-4451-d0ec-a6fb0c4e96a3"
      },
      "execution_count": 1,
      "outputs": [
        {
          "output_type": "stream",
          "name": "stdout",
          "text": [
            "El volumen es 16.42\n"
          ]
        }
      ]
    },
    {
      "cell_type": "markdown",
      "source": [
        "1.4. El nitrógeno líquido se encuentra a -196°C. ¿Cuál es esta temperatura en Kelvin?"
      ],
      "metadata": {
        "id": "-rOswc3XTHZU"
      }
    },
    {
      "cell_type": "code",
      "source": [
        "def fconvcak(a):\n",
        "  b = a + 273\n",
        "  return(b)\n",
        "tc = -196\n",
        "print(\"La temperatura en kelvin es \", fconvcak(tc),\"K\")"
      ],
      "metadata": {
        "colab": {
          "base_uri": "https://localhost:8080/"
        },
        "id": "Mzj_4-wHSKcF",
        "outputId": "a18df1a0-46ea-49c1-e33b-c70c06ba7c7c"
      },
      "execution_count": 15,
      "outputs": [
        {
          "output_type": "stream",
          "name": "stdout",
          "text": [
            "La temperatura en kelvin es  77 K\n"
          ]
        }
      ]
    },
    {
      "cell_type": "markdown",
      "source": [
        "TEMA 2. Características del estado gaseoso"
      ],
      "metadata": {
        "id": "_Z_Y-GJPSxQ-"
      }
    },
    {
      "cell_type": "markdown",
      "source": [
        "2.1. ¿Cuál es la principal característica que distingue a los gases de los líquidos y sólidos?"
      ],
      "metadata": {
        "id": "sqoftj_QTKjE"
      }
    },
    {
      "cell_type": "markdown",
      "source": [
        "Los gases tienen una fuerza de cohesion practicamente inexistentes en comparacion con los solidos y liquidos, ademas de que los gases existe una mayor distancia entre sus particulas"
      ],
      "metadata": {
        "id": "E7Z0e_9IUOl0"
      }
    },
    {
      "cell_type": "markdown",
      "source": [
        "2.5. ¿Por qué los gases no tienen una forma o un volumen definidos?"
      ],
      "metadata": {
        "id": "d15r2HfoU09s"
      }
    },
    {
      "cell_type": "markdown",
      "source": [
        "Debido a que sus moléculas están muy separadas y en continuo movimiento. La presión se debe a los choques de las moléculas contra la pared del recipiente. Estos ocupan siempre por completo el recipiente en el que se encuentran."
      ],
      "metadata": {
        "id": "NV_zJnbAVAcr"
      }
    },
    {
      "cell_type": "markdown",
      "source": [
        "TEMA 3. Definición y problemas sobre presión"
      ],
      "metadata": {
        "id": "aVZiV-dWWzlt"
      }
    },
    {
      "cell_type": "markdown",
      "source": [
        "3.1. Calcula la presión ejercida por 0.5 moles de gas en un recipiente de 10 litros a 25°C."
      ],
      "metadata": {
        "id": "MwiTShNzW5Pr"
      }
    },
    {
      "cell_type": "code",
      "source": [
        "#UTILIZAMOS PV=nRT\n",
        "\n",
        "V=10\n",
        "n=0.5\n",
        "R=0.0821\n",
        "Tc=25\n",
        "Tk= Tc+273.15\n",
        "P=(n*R*Tk)/V\n",
        "\n",
        "print(\"La presion ejercida es\" ,P)"
      ],
      "metadata": {
        "colab": {
          "base_uri": "https://localhost:8080/"
        },
        "id": "XvlpHjh4W6oj",
        "outputId": "112c5143-460b-4726-b26f-0c02c7c048dd"
      },
      "execution_count": null,
      "outputs": [
        {
          "output_type": "stream",
          "name": "stdout",
          "text": [
            "La presion ejercida es 1.22390575\n"
          ]
        }
      ]
    },
    {
      "cell_type": "markdown",
      "source": [
        "3.4. Si un gas ocupa 500 ml a una presión de 750 mmHg, ¿cuál es su volumen a 1 atmósfera?"
      ],
      "metadata": {
        "id": "4iHo1Sr-YReT"
      }
    },
    {
      "cell_type": "code",
      "source": [
        "def convhgaatm(a):\n",
        "  b = a/760\n",
        "  return(b)\n",
        "mmhg = 750\n",
        "v1 = 0.5\n",
        "atm = 1\n",
        "v2 = (convhgaatm(mmhg)*v1)/atm\n",
        "print(\"El Volumen es \", v2, \"L\")"
      ],
      "metadata": {
        "id": "DIJfp3gvYTCS",
        "colab": {
          "base_uri": "https://localhost:8080/"
        },
        "outputId": "e77098ea-9e36-4069-b05b-867ca8ecd958"
      },
      "execution_count": 3,
      "outputs": [
        {
          "output_type": "stream",
          "name": "stdout",
          "text": [
            "El Volumen es  0.4934210526315789 L\n"
          ]
        }
      ]
    },
    {
      "cell_type": "markdown",
      "source": [
        "TEMA 4. Principios de la Teoría Cinético Molecular de los gases"
      ],
      "metadata": {
        "id": "VsJ81o1GYg6b"
      }
    },
    {
      "cell_type": "markdown",
      "source": [
        "4.3. ¿Por qué la temperatura se relaciona con la velocidad promedio de las partículas en un gas\n",
        "ideal?"
      ],
      "metadata": {
        "id": "zepzkdCgYn2D"
      }
    },
    {
      "cell_type": "markdown",
      "source": [
        "Esto se debe a que cuanto mayor sea la temperatura, mayores serán las energías moleculares y las velocidades. En consecuencia, existe un cambio mayor en el momento molecular cuando una molécula choca con las paredes, y por lo tanto, también una presión mayor sobre la pared."
      ],
      "metadata": {
        "id": "wISwAKRIY3hy"
      }
    },
    {
      "cell_type": "markdown",
      "source": [
        "4.1. ¿Cuáles son los postulados clave de la teoría cinético-molecular de los gases?"
      ],
      "metadata": {
        "id": "nAG5KeYnZeoK"
      }
    },
    {
      "cell_type": "markdown",
      "source": [
        "La teoría cinética molecular contiene los siguientes postulados sobre los gases ideales: Los gases están formados por partículas que están en movimiento constante y aleatorio. Las partículas del gas tienen energía cinética y la cantidad de energía cinética depende de la temperatura del gas."
      ],
      "metadata": {
        "id": "TJ7efQcQZioq"
      }
    },
    {
      "cell_type": "markdown",
      "source": [
        "TEMA 5. Ley General de los Gases Ideales"
      ],
      "metadata": {
        "id": "O7fLWQPYZq4T"
      }
    },
    {
      "cell_type": "markdown",
      "source": [
        "5.1. Utiliza la ecuación de los gases ideales para calcular la presión de 2 moles de gas en un\n",
        "recipiente de 5 litros a 25°C."
      ],
      "metadata": {
        "id": "WpJkOLoIZ5mT"
      }
    },
    {
      "cell_type": "code",
      "source": [
        "V=5\n",
        "n=2\n",
        "R=0.0821\n",
        "Tc=25\n",
        "Tk= Tc+273.15\n",
        "P=(n*R*Tk)/V\n",
        "print(\"La presion es\" ,P)"
      ],
      "metadata": {
        "colab": {
          "base_uri": "https://localhost:8080/"
        },
        "id": "EmelBLQ2Z6RK",
        "outputId": "582d4c37-7a46-4e6e-8c50-dc9f1fe106f9"
      },
      "execution_count": null,
      "outputs": [
        {
          "output_type": "stream",
          "name": "stdout",
          "text": [
            "La presion es 9.791246\n"
          ]
        }
      ]
    },
    {
      "cell_type": "markdown",
      "source": [
        "5.2. Si tienes un gas que ocupa 10 litros a 3 atmósferas de presión y 273 K de temperatura,\n",
        "¿cuántos moles de gas tienes?"
      ],
      "metadata": {
        "id": "EQ36_4bCbgA8"
      }
    },
    {
      "cell_type": "code",
      "source": [
        "V=10\n",
        "R=0.0821\n",
        "T=273\n",
        "P=3\n",
        "n= (P*V)/(R*T)\n",
        "print(\"Las moles de gas son\" ,n)"
      ],
      "metadata": {
        "colab": {
          "base_uri": "https://localhost:8080/"
        },
        "id": "MyWFBMNObg1a",
        "outputId": "8cb3f0f3-1a60-4af9-fe5a-aec86a89974e"
      },
      "execution_count": null,
      "outputs": [
        {
          "output_type": "stream",
          "name": "stdout",
          "text": [
            "Las moles de gas son 1.338490985263214\n"
          ]
        }
      ]
    },
    {
      "cell_type": "markdown",
      "source": [],
      "metadata": {
        "id": "pwyQA3TOZtny"
      }
    },
    {
      "cell_type": "markdown",
      "source": [
        "TEMA 6. Ley de Gay-Lussac:"
      ],
      "metadata": {
        "id": "Oh8c7oPucJcT"
      }
    },
    {
      "cell_type": "markdown",
      "source": [
        "6.1. Un recipiente de 2 litros contiene 1 mol de gas a 300 K. Si la presión se duplica manteniendo\n",
        "el volumen constante, ¿cuál será la nueva temperatura?"
      ],
      "metadata": {
        "id": "qfKVyTZ2cOYC"
      }
    },
    {
      "cell_type": "code",
      "source": [
        "t1 = 300\n",
        "t2 = t1*2\n",
        "print(\"La Temperatura sera de\",t2, \"K\")"
      ],
      "metadata": {
        "colab": {
          "base_uri": "https://localhost:8080/"
        },
        "id": "uFjddnXec0Cr",
        "outputId": "248c782c-cf51-4a97-ee4d-a670af1c263a"
      },
      "execution_count": 12,
      "outputs": [
        {
          "output_type": "stream",
          "name": "stdout",
          "text": [
            "La Temperatura sera de 600 K\n"
          ]
        }
      ]
    },
    {
      "cell_type": "markdown",
      "source": [
        "6.2. Un globo se llena con 3 moles de gas a 25 °C. Si la temperatura se incrementa a 75 °C, ¿cuál\n",
        "será el nuevo volumen del globo?"
      ],
      "metadata": {
        "id": "-X-qNlTsejgL"
      }
    },
    {
      "cell_type": "code",
      "source": [
        "\n",
        "p = 1\n",
        "t1 = fconvcak(25)\n",
        "v1 = 0.0821*t1*3\n",
        "t2 = fconvcak(75)\n",
        "v2 = v1*t2/t1\n",
        "print(\"El Volumen sera\", v2, \"L\")"
      ],
      "metadata": {
        "colab": {
          "base_uri": "https://localhost:8080/"
        },
        "id": "JqgOD5fdeq27",
        "outputId": "d08396ef-803c-4788-a316-fefaa168f211"
      },
      "execution_count": 16,
      "outputs": [
        {
          "output_type": "stream",
          "name": "stdout",
          "text": [
            "El Volumen sera 85.7124 L\n"
          ]
        }
      ]
    },
    {
      "cell_type": "markdown",
      "source": [
        "TEMA 7. Ley de Charles:"
      ],
      "metadata": {
        "id": "Z1ERTqAYe0k9"
      }
    },
    {
      "cell_type": "markdown",
      "source": [
        "7.1. Un globo se llena con 2 moles de gas a 25 °C. Si el volumen inicial es de 5 litros, ¿cuál será el\n",
        "volumen a 50 °C, manteniendo constante la presión?"
      ],
      "metadata": {
        "id": "BhDrETN4dxb3"
      }
    },
    {
      "cell_type": "code",
      "source": [
        "t1 = fconvcak(25)\n",
        "v1 = 5\n",
        "t2 = fconvcak(50)\n",
        "v2 = v1*t2/t1\n",
        "print(\"El Volumen sera ---> \", v2, \"L\")"
      ],
      "metadata": {
        "colab": {
          "base_uri": "https://localhost:8080/"
        },
        "id": "8mWRA1fKd09N",
        "outputId": "369d1a93-6f88-436b-b828-7a4594e54f26"
      },
      "execution_count": 17,
      "outputs": [
        {
          "output_type": "stream",
          "name": "stdout",
          "text": [
            "El Volumen sera --->  5.419463087248322 L\n"
          ]
        }
      ]
    },
    {
      "cell_type": "markdown",
      "source": [
        "7.2. Si un gas ocupa un volumen de 2 litros a 0 °C, ¿cuál será el volumen a 100 °C si la presión se\n",
        "mantiene constante?"
      ],
      "metadata": {
        "id": "i5zGUmxad2wJ"
      }
    },
    {
      "cell_type": "code",
      "source": [
        "t1 = fconvcak(0)\n",
        "v1 = 2\n",
        "t2 = fconvcak(100)\n",
        "v2 = v1*t2/t1\n",
        "print(\"El Volumen sera ---> \", v2, \"L\")"
      ],
      "metadata": {
        "id": "L-pbEXvAd5oa"
      },
      "execution_count": null,
      "outputs": []
    },
    {
      "cell_type": "markdown",
      "source": [],
      "metadata": {
        "id": "52s2bYN1e4ux"
      }
    },
    {
      "cell_type": "markdown",
      "source": [
        "TEMA 8. Ley de Boyle-Mariotte:"
      ],
      "metadata": {
        "id": "SfmDugvbd8UR"
      }
    },
    {
      "cell_type": "markdown",
      "source": [
        "8.1. Un gas ocupa 2 litros a una presión de 3 atmósferas. Si se comprime a 1 litro, ¿cuál será la\n",
        "nueva presión a temperatura constante?"
      ],
      "metadata": {
        "id": "7-ylNxs5eCbx"
      }
    },
    {
      "cell_type": "code",
      "source": [
        "v1 = 2\n",
        "p1 = 3\n",
        "v2 = 1\n",
        "p2 = p1*v1/v2\n",
        "print(\"La Presion sera ---> \",p2,\"atm\")"
      ],
      "metadata": {
        "colab": {
          "base_uri": "https://localhost:8080/"
        },
        "id": "7slFX7-veFAK",
        "outputId": "615c775e-26ca-4a4a-e78b-0322736635d8"
      },
      "execution_count": 18,
      "outputs": [
        {
          "output_type": "stream",
          "name": "stdout",
          "text": [
            "La Presion sera --->  6.0 atm\n"
          ]
        }
      ]
    },
    {
      "cell_type": "markdown",
      "source": [
        "8.2. Si un gas a 2 atmósferas de presión ocupa un volumen de 10 litros, ¿cuál sería el nuevo\n",
        "volumen si la presión se duplica?"
      ],
      "metadata": {
        "id": "vDkkNTXzeHU_"
      }
    },
    {
      "cell_type": "code",
      "source": [
        "v1 = 10\n",
        "p1 = 2\n",
        "p2 = 4\n",
        "v2 = v1*p1/p2\n",
        "print(\"El volumen sera ---> \",v2,\"L\")"
      ],
      "metadata": {
        "colab": {
          "base_uri": "https://localhost:8080/"
        },
        "id": "FlHqHsWleJwN",
        "outputId": "e84dfd3d-0656-4557-986c-8adad4a5ce9f"
      },
      "execution_count": 19,
      "outputs": [
        {
          "output_type": "stream",
          "name": "stdout",
          "text": [
            "El volumen sera --->  5.0 L\n"
          ]
        }
      ]
    },
    {
      "cell_type": "markdown",
      "source": [
        "TEMA 9. Ley de las presiones parciales de Dalton:"
      ],
      "metadata": {
        "id": "SBIV1BTweM3H"
      }
    },
    {
      "cell_type": "markdown",
      "source": [
        "9.1. Un recipiente contiene oxígeno (O2) y nitrógeno (N2) a una presión total de 3 atmósferas. Si\n",
        "la presión parcial de O2 es de 1 atmósfera, ¿cuál es la presión parcial de N2?"
      ],
      "metadata": {
        "id": "rnWDJ_BGePs5"
      }
    },
    {
      "cell_type": "code",
      "source": [
        "pt = 3\n",
        "po = 1\n",
        "pn = pt - po\n",
        "print(\"La presion parcial del N2 es ---> \", pn , \"atm\")"
      ],
      "metadata": {
        "colab": {
          "base_uri": "https://localhost:8080/"
        },
        "id": "hc4mczgCeSS1",
        "outputId": "f9117371-b379-4a0b-f74a-31ae10da08a6"
      },
      "execution_count": 20,
      "outputs": [
        {
          "output_type": "stream",
          "name": "stdout",
          "text": [
            "La presion parcial del N2 es --->  2 atm\n"
          ]
        }
      ]
    },
    {
      "cell_type": "markdown",
      "source": [
        "9.2. En un recipiente, la presión parcial de hidrógeno (H2) es de 0.2 atmósferas, la del oxígeno\n",
        "(O2) es de 0.5 atmósferas y la del nitrógeno (N2) es de 0.3 atmósferas. ¿Cuál es la presión total\n",
        "en el recipiente?"
      ],
      "metadata": {
        "id": "oZp2Z57IeUxm"
      }
    },
    {
      "cell_type": "code",
      "source": [
        "ph = 0.2\n",
        "po = 0.5\n",
        "pn = 0.3\n",
        "pt = ph + po + pn\n",
        "print(\"La presion Total del recipiente es ---> \", pt, \"atm\")"
      ],
      "metadata": {
        "colab": {
          "base_uri": "https://localhost:8080/"
        },
        "id": "appxXs4jeXL9",
        "outputId": "5cd884e7-ba1a-459b-9e7b-3d358af7e055"
      },
      "execution_count": 21,
      "outputs": [
        {
          "output_type": "stream",
          "name": "stdout",
          "text": [
            "La presion Total del recipiente es --->  1.0 atm\n"
          ]
        }
      ]
    },
    {
      "cell_type": "markdown",
      "source": [
        "TEMA 10. Gases Reales:"
      ],
      "metadata": {
        "id": "1WBb957teaV2"
      }
    },
    {
      "cell_type": "markdown",
      "source": [
        "10.1. Si 2 moles de un gas real ocupan 3 litros a 300 K y 2 atmósferas de presión, ¿cuál es el factor\n",
        "de compresibilidad (Z) del gas?"
      ],
      "metadata": {
        "id": "Vqfn2ZUWedrP"
      }
    },
    {
      "cell_type": "code",
      "source": [
        "r = 0.082\n",
        "v = 3\n",
        "t = 300\n",
        "p = 2\n",
        "z = (p*v)/(r*t)\n",
        "print(\"El factor de comprensibilidad es ---> z =\", z)"
      ],
      "metadata": {
        "colab": {
          "base_uri": "https://localhost:8080/"
        },
        "id": "OeZVdX0cegRq",
        "outputId": "2f7130e7-82b0-4809-e7cc-9f682e7cb4ed"
      },
      "execution_count": 22,
      "outputs": [
        {
          "output_type": "stream",
          "name": "stdout",
          "text": [
            "El factor de comprensibilidad es ---> z = 0.24390243902439024\n"
          ]
        }
      ]
    },
    {
      "cell_type": "markdown",
      "source": [
        "10.2. Un gas real se encuentra en un recipiente de 5 litros a 350 K y 4 atmósferas de presión.\n",
        "Calcular el factor de compresibilidad (Z) del gas en estas condiciones."
      ],
      "metadata": {
        "id": "iGh6gNu2eif_"
      }
    },
    {
      "cell_type": "code",
      "source": [
        "r = 0.082\n",
        "v = 5\n",
        "t = 350\n",
        "p = 4\n",
        "z = (p*v)/(r*t)\n",
        "print(\"El factor de comprensibilidad es ---> z= \", z)"
      ],
      "metadata": {
        "colab": {
          "base_uri": "https://localhost:8080/"
        },
        "id": "S_my603-ek_f",
        "outputId": "f935fd1c-5f1d-44a8-c0b0-626756fc945c"
      },
      "execution_count": 23,
      "outputs": [
        {
          "output_type": "stream",
          "name": "stdout",
          "text": [
            "El factor de comprensibilidad es ---> z=  0.6968641114982578\n"
          ]
        }
      ]
    }
  ]
}